{
 "cells": [
  {
   "cell_type": "code",
   "execution_count": 38,
   "id": "187410a8",
   "metadata": {},
   "outputs": [],
   "source": [
    "import re\n",
    "from datetime import datetime\n",
    "import os"
   ]
  },
  {
   "cell_type": "code",
   "execution_count": 39,
   "id": "28e2cbeb",
   "metadata": {},
   "outputs": [],
   "source": [
    "def process(row : str, products : dict[str, int], ratings : dict[str : int]) -> None :\n",
    "    \"\"\"\n",
    "    Process a single review row and update product counts and ratings.\n",
    "\n",
    "    Args:\n",
    "        row (str): A single line of review data.\n",
    "        products (dict[str, int]): Dictionary mapping product IDs to review counts.\n",
    "        ratings (dict[str, int]): Dictionary mapping product IDs to total ratings.\n",
    "\n",
    "    Raises:\n",
    "        ValueError: If the row has invalid format or contains invalid values.\n",
    "    \"\"\"\n",
    "    \n",
    "    # Pattern to recognize text\n",
    "    pattern = re.compile(\"\\\"[^\\\"]*\\\"\")\n",
    "    row = re.sub(pattern, \"\", row)\n",
    "    # Breaking the string into individual tokens\n",
    "    row = row.strip().split()\n",
    "    \n",
    "    if len(row) > 4 :\n",
    "        raise ValueError(\"Extra Values\")\n",
    "    \n",
    "    # Validating if all values are correct\n",
    "    if len(row[0]) == 6 or row[0].isalnum() :\n",
    "        if len(row[1]) == 10 or row[1].isalnum() :\n",
    "            if datetime.strptime(row[2], \"%Y-%m-%d\") :\n",
    "                if 1 <= int(row[3]) <= 5 :\n",
    "                    if row[1] in products :\n",
    "                        products[row[1]] += 1\n",
    "                    else :\n",
    "                        products[row[1]] = 1\n",
    "                    if row[1] in ratings :\n",
    "                        ratings[row[1]] += int(row[3])\n",
    "                    else :\n",
    "                        ratings[row[1]] = int(row[3])\n",
    "                    return\n",
    "    # Don't know what error but if some happens\n",
    "    raise ValueError(\"Some Error\")"
   ]
  },
  {
   "cell_type": "code",
   "execution_count": 40,
   "id": "fe77b718",
   "metadata": {},
   "outputs": [],
   "source": [
    "def read(file : str, products : dict[str, int], ratings : dict[str : int]) -> tuple[int, int] :\n",
    "    \"\"\"\n",
    "    Read a file and process each review row.\n",
    "\n",
    "    Args:\n",
    "        file (str): Path to the file.\n",
    "        products (dict[str, int]): Dictionary storing product counts.\n",
    "        ratings (dict[str, int]): Dictionary storing total ratings.\n",
    "\n",
    "    Returns:\n",
    "        tuple[int, int]: (valid_count, invalid_count)\n",
    "    \"\"\"\n",
    "    \n",
    "    valid = 0\n",
    "    invalid = 0\n",
    "\n",
    "    try :\n",
    "        with open(file.replace(\"\\\\\", \"/\"), \"r\") as f :\n",
    "            data = f.readlines()\n",
    "            for row in data :\n",
    "                try :\n",
    "                    process(row, products, ratings)\n",
    "                    valid += 1\n",
    "                except Exception as e :\n",
    "                    # If processing fails, mark as invalid\n",
    "                    invalid += 1\n",
    "    except Exception as e :\n",
    "        print(f\"Cannot open file {file}\")\n",
    "        print(f\"Error : {e}\")\n",
    "    return (valid, invalid)"
   ]
  },
  {
   "cell_type": "code",
   "execution_count": 41,
   "id": "b3c68bbf",
   "metadata": {},
   "outputs": [],
   "source": [
    "def start(dir : str, products : dict[str, int], ratings : dict[str, int]) -> tuple[int, int] :\n",
    "    \"\"\"\n",
    "    Recursively process all files in a directory and subdirectories.\n",
    "\n",
    "    Args:\n",
    "        dir (str): Directory path.\n",
    "        products (dict[str, int]): Dictionary for product counts.\n",
    "        ratings (dict[str, int]): Dictionary for total ratings.\n",
    "\n",
    "    Returns:\n",
    "        tuple[int, int]: (total_valid, total_invalid)\n",
    "    \"\"\"\n",
    "    \n",
    "    valid = 0\n",
    "    invalid = 0\n",
    "    for name in os.listdir(dir) :\n",
    "        file = os.path.join(dir, name)\n",
    "        if os.path.isfile(file) :\n",
    "            valid1, invalid1 = read(file, products, ratings)\n",
    "            valid += valid1\n",
    "            invalid += invalid1\n",
    "        elif os.path.isdir(file) : # Recursive search for nested directories\n",
    "            valid1, invalid1 = start(file, products, ratings)\n",
    "            valid += valid1\n",
    "            invalid += invalid1\n",
    "    return (valid, invalid)"
   ]
  },
  {
   "cell_type": "code",
   "execution_count": 42,
   "id": "85e9a74a",
   "metadata": {},
   "outputs": [],
   "source": [
    "def main() :\n",
    "    \"\"\"\n",
    "    Main entry point of the program.\n",
    "\n",
    "    - Reads review files from 'files/' directory.\n",
    "    - Processes reviews and validates them.\n",
    "    - Computes average ratings per product.\n",
    "    - Identifies top 3 products by rating.\n",
    "    - Writes summary report to 'summary.txt'.\n",
    "    \"\"\"\n",
    "     \n",
    "    dir = r\"files\"\n",
    "\n",
    "    products = {} # Stores number of reviews per product\n",
    "    ratings = {} # Stores total ratings per product\n",
    "\n",
    "    # Process directory recursively\n",
    "    valid, invalid = start(dir, products, ratings)\n",
    "\n",
    "    # Compute average ratings\n",
    "    average = {product : ratings[product] / products[product] for product in products.keys()}\n",
    "\n",
    "    # Get top 3 products based on average rating\n",
    "    top_keys = sorted(average, reverse = True, key = lambda x : average[x])[:3]\n",
    "\n",
    "    # Write results to summary file\n",
    "    with open(\"summary.txt\", \"w+\") as f :\n",
    "        f.write(f\"1) The total number of reviews processed -> {valid + invalid}\\n\")\n",
    "        f.write(f\"2) The total number of valid reviews -> {valid}\\n\")\n",
    "        f.write(f\"3) The total number of invalid reviews -> {invalid}\\n\")\n",
    "        f.write(\"4) Top 3 products with the highest average ratings\\n\")\n",
    "\n",
    "        for i, key in enumerate(top_keys) :\n",
    "            f.write(f\"\\t{i + 1}) {key} -> {average[key]}\\n\")"
   ]
  },
  {
   "cell_type": "code",
   "execution_count": 43,
   "id": "05dbb4ef",
   "metadata": {},
   "outputs": [],
   "source": [
    "if __name__ == \"__main__\" :\n",
    "    main()"
   ]
  },
  {
   "cell_type": "markdown",
   "id": "58c8be0c",
   "metadata": {},
   "source": [
    " ## OUTPUT"
   ]
  },
  {
   "cell_type": "markdown",
   "id": "6cb62f8a",
   "metadata": {},
   "source": [
    "```text\n",
    "1) The total number of reviews processed -> 100\n",
    "2) The total number of valid reviews -> 94\n",
    "3) The total number of invalid reviews -> 6\n",
    "4) Top 3 products with the highest average ratings\n",
    "\t1) NSVSSEHGIJ -> 4.0\n",
    "\t2) GQVGTRCM4M -> 4.0\n",
    "\t3) X71RH0U2ZS -> 3.625"
   ]
  },
  {
   "cell_type": "markdown",
   "id": "8151bfd7",
   "metadata": {},
   "source": [
    " ## CONCLUSION"
   ]
  },
  {
   "cell_type": "markdown",
   "id": "27e1163e",
   "metadata": {},
   "source": [
    "The Python script reliably ingests multiple review files, extracts structured fields with regular expressions, and validates records to separate valid and invalid reviews. It computes per-product average ratings, identifies the top three products, and writes a clear, auditable summary.txt. Robust error handling and efficient, scalable processing ensure it performs well on large datasets, turning unstructured feedback into actionable product insights."
   ]
  }
 ],
 "metadata": {
  "kernelspec": {
   "display_name": "Python 3",
   "language": "python",
   "name": "python3"
  },
  "language_info": {
   "codemirror_mode": {
    "name": "ipython",
    "version": 3
   },
   "file_extension": ".py",
   "mimetype": "text/x-python",
   "name": "python",
   "nbconvert_exporter": "python",
   "pygments_lexer": "ipython3",
   "version": "3.12.0"
  }
 },
 "nbformat": 4,
 "nbformat_minor": 5
}
