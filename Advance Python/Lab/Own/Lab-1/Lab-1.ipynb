{
 "cells": [
  {
   "cell_type": "code",
   "execution_count": 1,
   "id": "3c89854b",
   "metadata": {},
   "outputs": [],
   "source": [
    "import os\n",
    "import re\n",
    "import collections"
   ]
  },
  {
   "cell_type": "code",
   "execution_count": 2,
   "id": "fc384604",
   "metadata": {},
   "outputs": [],
   "source": [
    "folderPath = r\"D:\\Ghanu Study\\Sem - 5\\Advance Python\\Lab\\Own\\reviews_dataset\"\n",
    "\n",
    "for filename in os.listdir(folderPath):\n",
    "    with open (os.path.join(folderPath, filename), \"r\") as file:\n",
    "        content = file.read()\n"
   ]
  }
 ],
 "metadata": {
  "kernelspec": {
   "display_name": "base",
   "language": "python",
   "name": "python3"
  },
  "language_info": {
   "codemirror_mode": {
    "name": "ipython",
    "version": 3
   },
   "file_extension": ".py",
   "mimetype": "text/x-python",
   "name": "python",
   "nbconvert_exporter": "python",
   "pygments_lexer": "ipython3",
   "version": "3.11.5"
  }
 },
 "nbformat": 4,
 "nbformat_minor": 5
}
