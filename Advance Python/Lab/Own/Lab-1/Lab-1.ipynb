{
 "cells": [
  {
   "cell_type": "code",
   "execution_count": 4,
   "id": "3c89854b",
   "metadata": {},
   "outputs": [],
   "source": [
    "import os\n",
    "import re\n",
    "import collections"
   ]
  },
  {
   "cell_type": "code",
   "execution_count": 5,
   "id": "fc384604",
   "metadata": {},
   "outputs": [],
   "source": [
    "folderPath = r\"D:\\Ghanu Study\\Sem - 5\\Advance Python\\Lab\\Own\\reviews_dataset\"\n",
    "\n",
    "for filename in os.listdir(folderPath):\n",
    "    with open (os.path.join(folderPath, filename), \"r\") as file:\n",
    "        content = file.read()"
   ]
  },
  {
   "cell_type": "code",
   "execution_count": 8,
   "id": "f5a96f27",
   "metadata": {},
   "outputs": [],
   "source": [
    "pattern = re.compile(r\"Product:\\s*(.*?)\\nCustomer:\\s*(.*?)\\nRating:\\s*(\\d+)\\nReview:\\s*(.*?)\\n\", re.DOTALL)"
   ]
  },
  {
   "cell_type": "code",
   "execution_count": 10,
   "id": "1e432dac",
   "metadata": {},
   "outputs": [],
   "source": [
    "#store data into dict\n",
    "data = {}\n",
    "\n",
    "for product, customer, rating, review in pattern.findall(content):\n",
    "    rating = int(rating)\n",
    "    \n",
    "    if product not in data:\n",
    "        data[product] = {\"ratings\": [], \"reviews\": []}\n",
    "    data[product][\"ratings\"].append(rating)\n",
    "    data[product][\"reviews\"].append((customer, review))"
   ]
  },
  {
   "cell_type": "code",
   "execution_count": 11,
   "id": "fd0c0c41",
   "metadata": {},
   "outputs": [],
   "source": [
    "summary = {}\n",
    "for product, info in data.items():\n",
    "    avg_rating = sum(info[\"ratings\"]) / len(info[\"ratings\"])\n",
    "    summary[product] = avg_rating"
   ]
  },
  {
   "cell_type": "code",
   "execution_count": 12,
   "id": "daf390ba",
   "metadata": {},
   "outputs": [],
   "source": [
    "top_products = sorted(summary.items(), key=lambda x: x[1], reverse=True)[:5]"
   ]
  },
  {
   "cell_type": "code",
   "execution_count": 14,
   "id": "39593353",
   "metadata": {},
   "outputs": [
    {
     "name": "stdout",
     "output_type": "stream",
     "text": [
      "✅ Summary written to summary.txt\n"
     ]
    }
   ],
   "source": [
    "with open(\"summary.txt\", \"w\") as f:\n",
    "    for product, avg in summary.items():\n",
    "        f.write(f\"Product: {product}\\nAverage Rating: {avg:.2f}\\n\")\n",
    "        f.write(f\"Total Reviews: {len(data[product]['ratings'])}\\n\")\n",
    "        f.write(\"-\"*40 + \"\\n\")\n",
    "\n",
    "    f.write(\"\\nTop 5 Products:\\n\")\n",
    "    for product, avg in top_products:\n",
    "        f.write(f\"{product} - {avg:.2f}\\n\")\n",
    "print(\"✅ Summary written to summary.txt\")"
   ]
  }
 ],
 "metadata": {
  "kernelspec": {
   "display_name": "base",
   "language": "python",
   "name": "python3"
  },
  "language_info": {
   "codemirror_mode": {
    "name": "ipython",
    "version": 3
   },
   "file_extension": ".py",
   "mimetype": "text/x-python",
   "name": "python",
   "nbconvert_exporter": "python",
   "pygments_lexer": "ipython3",
   "version": "3.11.5"
  }
 },
 "nbformat": 4,
 "nbformat_minor": 5
}
