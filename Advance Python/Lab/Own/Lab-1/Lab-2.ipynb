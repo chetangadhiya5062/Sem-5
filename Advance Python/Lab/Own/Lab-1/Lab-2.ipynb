{
 "cells": [
  {
   "cell_type": "code",
   "execution_count": 4,
   "id": "3e5168b1",
   "metadata": {},
   "outputs": [],
   "source": [
    "import csv"
   ]
  },
  {
   "cell_type": "code",
   "execution_count": 5,
   "id": "810881ee",
   "metadata": {},
   "outputs": [],
   "source": [
    "with open (\"student_grades.csv\", mode = \"r\") as file:\n",
    "    reader = csv.DictReader(file)\n",
    "    grade = list(reader)"
   ]
  },
  {
   "cell_type": "code",
   "execution_count": 6,
   "id": "b60e8b4e",
   "metadata": {},
   "outputs": [],
   "source": [
    "student_scores = {}\n",
    "\n",
    "for row in grade:\n",
    "    name = row[\"Student\"]\n",
    "    score = int(row[\"Score\"])\n",
    "    if name not in student_scores:\n",
    "        student_scores[name] = []\n",
    "    student_scores[name].append(score)\n"
   ]
  },
  {
   "cell_type": "code",
   "execution_count": 7,
   "id": "919cb7c4",
   "metadata": {},
   "outputs": [],
   "source": [
    "def cal_avg(scores):\n",
    "    return sum(scores)/len(scores)"
   ]
  },
  {
   "cell_type": "code",
   "execution_count": 10,
   "id": "f8d7e226",
   "metadata": {},
   "outputs": [],
   "source": [
    "student_averages = {}\n",
    "for student, scores in student_scores.items():\n",
    "    avg = cal_avg(scores)\n",
    "    student_averages[student] = round(avg, 2)  # keep 2 decimal places\n"
   ]
  },
  {
   "cell_type": "code",
   "execution_count": 12,
   "id": "5561512c",
   "metadata": {},
   "outputs": [
    {
     "name": "stdout",
     "output_type": "stream",
     "text": [
      "✅ student_average_grades.csv has been created!\n"
     ]
    }
   ],
   "source": [
    "with open(\"student_average_grades.csv\", mode=\"w\", newline=\"\") as file:\n",
    "    writer = csv.writer(file)\n",
    "    writer.writerow([\"Name\", \"Average\"])  # header\n",
    "    for student, avg in student_averages.items():\n",
    "        writer.writerow([student, avg])\n",
    "print(\"✅ student_average_grades.csv has been created!\")"
   ]
  }
 ],
 "metadata": {
  "kernelspec": {
   "display_name": "base",
   "language": "python",
   "name": "python3"
  },
  "language_info": {
   "codemirror_mode": {
    "name": "ipython",
    "version": 3
   },
   "file_extension": ".py",
   "mimetype": "text/x-python",
   "name": "python",
   "nbconvert_exporter": "python",
   "pygments_lexer": "ipython3",
   "version": "3.11.5"
  }
 },
 "nbformat": 4,
 "nbformat_minor": 5
}
