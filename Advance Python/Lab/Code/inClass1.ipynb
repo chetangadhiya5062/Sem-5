{
 "cells": [
  {
   "cell_type": "code",
   "execution_count": null,
   "id": "55ead5bf",
   "metadata": {},
   "outputs": [],
   "source": [
    "def text_processing_tool():\n",
    "    path = \"paste your path here\"\n",
    "    \n",
    "    with open(path, \"r\") as file :\n",
    "        \n",
    "        \n",
    "    "
   ]
  }
 ],
 "metadata": {
  "language_info": {
   "name": "python"
  }
 },
 "nbformat": 4,
 "nbformat_minor": 5
}
