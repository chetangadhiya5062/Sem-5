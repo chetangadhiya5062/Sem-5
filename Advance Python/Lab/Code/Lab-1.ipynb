{
 "cells": [
  {
   "cell_type": "code",
   "execution_count": null,
   "id": "a07db690",
   "metadata": {},
   "outputs": [],
   "source": [
    "import os\n",
    "import re\n",
    "from collections import defaultdict\n",
    "\n",
    "directory_Path = \"D:\\Ghanu Study\\Sem-5\\Advance Python\\Lab\\Code\\Directory\""
   ]
  }
 ],
 "metadata": {
  "language_info": {
   "name": "python"
  }
 },
 "nbformat": 4,
 "nbformat_minor": 5
}
