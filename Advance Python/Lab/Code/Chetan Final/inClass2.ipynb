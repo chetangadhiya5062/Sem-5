{
 "cells": [
  {
   "cell_type": "code",
   "execution_count": null,
   "id": "7ffcfea1",
   "metadata": {},
   "outputs": [],
   "source": [
    "def trackDeadlines():\n",
    "    deadLine = 10"
   ]
  },
  {
   "cell_type": "code",
   "execution_count": null,
   "id": "9137380b",
   "metadata": {},
   "outputs": [],
   "source": [
    "def updateStatus():\n",
    "    status = input(\"Modified Status\")"
   ]
  },
  {
   "cell_type": "code",
   "execution_count": null,
   "id": "4a66cf07",
   "metadata": {},
   "outputs": [],
   "source": [
    "def assignTask(task1):\n",
    "    print(f{task1} \" is assinged.\")"
   ]
  },
  {
   "cell_type": "code",
   "execution_count": null,
   "id": "eb4f1a42",
   "metadata": {},
   "outputs": [],
   "source": [
    "def createTask():\n",
    "    newTask = input(\"Enter the task you wanna create : \")"
   ]
  },
  {
   "cell_type": "code",
   "execution_count": null,
   "id": "4e7b92e7",
   "metadata": {},
   "outputs": [],
   "source": [
    "def cmd_management_system():\n",
    "    task = input(\"Enter the task you wanna perform : \")\n",
    "    \n",
    "    match(task):\n",
    "        \n",
    "    case (task) :   \n",
    "        assignTask(task):\n",
    "        \n",
    "    "
   ]
  }
 ],
 "metadata": {
  "kernelspec": {
   "display_name": "base",
   "language": "python",
   "name": "python3"
  },
  "language_info": {
   "codemirror_mode": {
    "name": "ipython",
    "version": 3
   },
   "file_extension": ".py",
   "mimetype": "text/x-python",
   "name": "python",
   "nbconvert_exporter": "python",
   "pygments_lexer": "ipython3",
   "version": "3.11.5"
  }
 },
 "nbformat": 4,
 "nbformat_minor": 5
}
